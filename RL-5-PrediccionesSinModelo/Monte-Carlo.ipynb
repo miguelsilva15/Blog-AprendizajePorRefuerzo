{
 "cells": [
  {
   "cell_type": "markdown",
   "metadata": {},
   "source": [
    "## Monte-Carlo\n",
    "\n",
    "En este caso utilizaremos el siguiente ambiente:\n",
    "\n",
    "![](imagenes/Ambiente.JPG)\n",
    "\n",
    "Para ejemplificar como funcionaría con una política aleatoria, en este caso la política decidirá con igual probabilidad moverse hacia la izquierda o derecha, la peculiaridad de este ambiente es que sólo se recompensa cuando se llega al estado final de la derecha, para el estado de la izquierda no hay premio alguno."
   ]
  },
  {
   "cell_type": "code",
   "execution_count": 1,
   "metadata": {},
   "outputs": [],
   "source": [
    "import numpy as np\n",
    "from ambiente_cadena import Cadena\n",
    "\n",
    "np.random.seed(666)"
   ]
  },
  {
   "cell_type": "code",
   "execution_count": 2,
   "metadata": {},
   "outputs": [],
   "source": [
    "def politica():\n",
    "    return np.random.choice([-1,1])"
   ]
  },
  {
   "cell_type": "code",
   "execution_count": 3,
   "metadata": {},
   "outputs": [
    {
     "name": "stdout",
     "output_type": "stream",
     "text": [
      "Episodio : 400\n",
      "Episodio : 800\n",
      "Episodio : 1200\n",
      "Episodio : 1600\n",
      "Episodio : 2000\n"
     ]
    }
   ],
   "source": [
    "numero_de_estados = 7 #número de estados del ambiente.\n",
    "\n",
    "valores = np.zeros(numero_de_estados) # se inicializará los valores de los estados en 0.\n",
    "estados_visitados = np.zeros(numero_de_estados)\n",
    "\n",
    "ambiente = Cadena() #se inicializa el ambiente.\n",
    "episodios = 2000 #número de episodios.\n",
    "contador = 0\n",
    "recompensa_total = 0\n",
    "# variables del algoritmo\n",
    "\n",
    "alpha = 0.25 #variable por la que se multiplica el error. \n",
    "\n",
    "while True:\n",
    "    accion = politica() #se genera una acción.\n",
    "    estado_anterior = ambiente.estado_actual()\n",
    "    estados_visitados[estado_anterior] = 1\n",
    "    recompensa, nuevo_estado, _, final_episodio = ambiente.movimiento(accion)\n",
    "    recompensa_total += recompensa\n",
    "    if final_episodio:\n",
    "        valores += alpha * (recompensa_total - valores)*estados_visitados\n",
    "        ambiente = Cadena() #reiniciamos el ambiente\n",
    "        recompensa_total = 0\n",
    "        estados_visitados = np.zeros(numero_de_estados)\n",
    "        contador+=1 #se suma un episodio mas terminado\n",
    "        if contador % 400 == 0:\n",
    "            print('Episodio :', contador)\n",
    "    if contador == episodios:\n",
    "        break"
   ]
  },
  {
   "cell_type": "code",
   "execution_count": 4,
   "metadata": {},
   "outputs": [
    {
     "data": {
      "text/plain": [
       "array([0.14487967, 0.17365872, 0.33387811, 0.65040468, 0.74735077])"
      ]
     },
     "execution_count": 4,
     "metadata": {},
     "output_type": "execute_result"
    }
   ],
   "source": [
    "valores[1:6] #valor final de cada estado."
   ]
  }
 ],
 "metadata": {
  "kernelspec": {
   "display_name": "Python 3",
   "language": "python",
   "name": "python3"
  },
  "language_info": {
   "codemirror_mode": {
    "name": "ipython",
    "version": 3
   },
   "file_extension": ".py",
   "mimetype": "text/x-python",
   "name": "python",
   "nbconvert_exporter": "python",
   "pygments_lexer": "ipython3",
   "version": "3.7.3"
  }
 },
 "nbformat": 4,
 "nbformat_minor": 2
}
