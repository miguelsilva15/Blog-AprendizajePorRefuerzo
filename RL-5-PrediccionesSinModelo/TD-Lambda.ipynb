{
 "cells": [
  {
   "cell_type": "markdown",
   "metadata": {},
   "source": [
    "## TD Lambda\n",
    "\n",
    "En este caso utilizaremos el siguiente ambiente:\n",
    "\n",
    "![](imagenes/Ambiente.JPG)\n",
    "\n",
    "Para ejemplificar como funcionaría con una política aleatoria, en este caso la política decidirá con igual probabilidad moverse hacia la izquierda o derecha, la peculiaridad de este ambiente es que sólo se recompensa cuando se llega al estado final de la derecha, para el estado de la izquierda no hay premio alguno."
   ]
  },
  {
   "cell_type": "code",
   "execution_count": 1,
   "metadata": {},
   "outputs": [],
   "source": [
    "import numpy as np\n",
    "from ambiente_cadena import Cadena\n",
    "\n",
    "np.random.seed(666)"
   ]
  },
  {
   "cell_type": "code",
   "execution_count": 2,
   "metadata": {},
   "outputs": [],
   "source": [
    "def politica():\n",
    "    return np.random.choice([-1,1])"
   ]
  },
  {
   "cell_type": "code",
   "execution_count": 3,
   "metadata": {},
   "outputs": [
    {
     "name": "stdout",
     "output_type": "stream",
     "text": [
      "Episodio : 400\n",
      "Episodio : 800\n",
      "Episodio : 1200\n",
      "Episodio : 1600\n",
      "Episodio : 2000\n"
     ]
    }
   ],
   "source": [
    "numero_de_estados = 7 #número de estados del ambiente.\n",
    "\n",
    "valores = np.zeros(numero_de_estados) # se inicializará los valores de los estados en 0.\n",
    "elegibilidad = np.zeros(numero_de_estados) # con este vector se llevará la cuenta de los estados visitados.\n",
    "\n",
    "ambiente = Cadena() #se inicializa el ambiente.\n",
    "episodios = 2000 #número de episodios.\n",
    "contador = 0\n",
    "\n",
    "# variables del algoritmo\n",
    "\n",
    "lambd = 0.7 #variable lambda de TD(lambda).\n",
    "alpha = 0.25 #variable por la que se multiplica el error. \n",
    "gamma = 0.7 #variable por la cual verá reducido la elegibilidad de cada estado.\n",
    "\n",
    "\n",
    "while True:\n",
    "    accion = politica() #se genera una acción.\n",
    "    estado_anterior = ambiente.estado_actual()\n",
    "    recompensa, nuevo_estado, _, final_episodio = ambiente.movimiento(accion)\n",
    "    elegibilidad *= lambd* gamma\n",
    "    elegibilidad[estado_anterior] += 1.0\n",
    "    td_error = recompensa + gamma * valores[nuevo_estado] - valores[estado_anterior]\n",
    "    valores += alpha * td_error * elegibilidad\n",
    "    if final_episodio:\n",
    "        elegibilidad = np.zeros(numero_de_estados)\n",
    "        ambiente = Cadena() #reiniciamos el ambiente\n",
    "        contador+=1 #se suma un episodio mas terminado\n",
    "        if contador % 400 == 0:\n",
    "            print('Episodio :', contador)\n",
    "    if contador == episodios:\n",
    "        break"
   ]
  },
  {
   "cell_type": "code",
   "execution_count": 4,
   "metadata": {},
   "outputs": [
    {
     "data": {
      "text/plain": [
       "array([0.01023519, 0.01805448, 0.0570654 , 0.18990032, 0.62445833])"
      ]
     },
     "execution_count": 4,
     "metadata": {},
     "output_type": "execute_result"
    }
   ],
   "source": [
    "valores[1:6] #valor final de cada estado."
   ]
  }
 ],
 "metadata": {
  "kernelspec": {
   "display_name": "Python 3",
   "language": "python",
   "name": "python3"
  },
  "language_info": {
   "codemirror_mode": {
    "name": "ipython",
    "version": 3
   },
   "file_extension": ".py",
   "mimetype": "text/x-python",
   "name": "python",
   "nbconvert_exporter": "python",
   "pygments_lexer": "ipython3",
   "version": "3.7.3"
  }
 },
 "nbformat": 4,
 "nbformat_minor": 2
}
