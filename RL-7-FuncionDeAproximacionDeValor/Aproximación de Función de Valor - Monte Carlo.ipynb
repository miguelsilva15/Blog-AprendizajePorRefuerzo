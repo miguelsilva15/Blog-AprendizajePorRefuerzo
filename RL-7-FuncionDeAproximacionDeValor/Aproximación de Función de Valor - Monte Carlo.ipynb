{
 "cells": [
  {
   "cell_type": "code",
   "execution_count": 1,
   "metadata": {},
   "outputs": [],
   "source": [
    "import torch\n",
    "import pytorch_lightning as pl\n",
    "import numpy as np\n",
    "import scipy.sparse as sp\n",
    "import matplotlib.pyplot as plt\n",
    "\n",
    "from torch import optim\n",
    "from torch import nn\n",
    "\n",
    "from ch09_random_walk import RandomWalk"
   ]
  },
  {
   "cell_type": "code",
   "execution_count": 2,
   "metadata": {},
   "outputs": [],
   "source": [
    "class redNeuronal(nn.Module):\n",
    "    def __init__(self, numero_de_estados_agregados):\n",
    "        super().__init__()\n",
    "        self.fc1 = nn.Linear(numero_de_estados_agregados, 128)\n",
    "        self.fc2 = nn.Linear(128, 256)\n",
    "        self.fc3 = nn.Linear(256, 1)\n",
    "        \n",
    "    def forward(self, x):\n",
    "        x = torch.relu(self.fc1(x))\n",
    "        x = torch.relu(self.fc2(x))\n",
    "        x = self.fc3(x)\n",
    "        return x"
   ]
  },
  {
   "cell_type": "code",
   "execution_count": 3,
   "metadata": {},
   "outputs": [],
   "source": [
    "np.random.seed(666)\n",
    "torch.manual_seed(666)\n",
    "\n",
    "\n",
    "numero_de_estados_agregados = 100\n",
    "estados_agregados = np.linspace(0, 1001, numero_de_estados_agregados)"
   ]
  },
  {
   "cell_type": "code",
   "execution_count": 4,
   "metadata": {},
   "outputs": [],
   "source": [
    "mdp = RandomWalk()\n",
    "model = redNeuronal(numero_de_estados_agregados+1)\n",
    "optimizer = optim.SGD(model.parameters(), lr=0.0001)\n",
    "criterio = nn.MSELoss()"
   ]
  },
  {
   "cell_type": "code",
   "execution_count": null,
   "metadata": {
    "scrolled": false
   },
   "outputs": [],
   "source": [
    "estados_visitados = []\n",
    "recompensas = []\n",
    "error_acumulado = []\n",
    "\n",
    "episodios_realizados = 6000\n",
    "epochs = 100\n",
    "\n",
    "for j in range(0, epochs):\n",
    "    mdp.reset_state()\n",
    "    for l in range(0, int(episodios_realizados/16)):\n",
    "        error_total = 0\n",
    "        estados_visitados = []\n",
    "        recompensas = []\n",
    "        for i in range(0,episodios_realizados):\n",
    "            mdp.reset_state()\n",
    "            while True:\n",
    "                estado, recompensa, terminal = mdp.step()\n",
    "                if terminal:\n",
    "                    episodio_agregado = np.digitize(mdp.states_visited, estados_agregados)\n",
    "                    episodio_agregado = list(set(episodio_agregado))\n",
    "                    estados_visitados.append(episodio_agregado)\n",
    "                    recompensas.append(recompensa)\n",
    "                    break\n",
    "        estados_visitados_matriz = sp.lil_matrix((episodios_realizados, numero_de_estados_agregados+1), dtype=int)\n",
    "        for row_index, col_indices in enumerate(estados_visitados):\n",
    "            estados_visitados_matriz[row_index, col_indices] = 1\n",
    "        data_para_entrenar = estados_visitados_matriz.toarray()\n",
    "        tensor_data_para_entrenar = torch.from_numpy(data_para_entrenar).float()\n",
    "        y = torch.FloatTensor(recompensas).view(episodios_realizados, -1)\n",
    "\n",
    "        optimizer.zero_grad()\n",
    "        pred = model.forward(tensor_data_para_entrenar)\n",
    "        error_parcial = criterio(pred, y)\n",
    "        error_parcial.backward()\n",
    "        error_total += error_parcial.item()\n",
    "        error_acumulado.append(error_parcial.item())\n",
    "        optimizer.step()\n",
    "    if j % 1000 == 0:\n",
    "        print(error_total)"
   ]
  },
  {
   "cell_type": "code",
   "execution_count": null,
   "metadata": {},
   "outputs": [
    {
     "name": "stdout",
     "output_type": "stream",
     "text": [
      "0.5325416922569275\n",
      "5.836848199367523\n"
     ]
    }
   ],
   "source": [
    "recompensas = []\n",
    "error_acumulado = []\n",
    "\n",
    "episodios_realizados = 8000\n",
    "epochs = 100\n",
    "\n",
    "\n",
    "for j in range(0, epochs):\n",
    "    error_total = 0\n",
    "    estados_visitados = []\n",
    "    recompensas = []\n",
    "    for i in range(0,episodios_realizados):\n",
    "        mdp.reset_state()\n",
    "        while True:\n",
    "            estado, recompensa, terminal = mdp.step()\n",
    "            if terminal:\n",
    "                episodio_agregado = np.digitize(mdp.states_visited, estados_agregados)\n",
    "                episodio_agregado = list(set(episodio_agregado))\n",
    "                estados_visitados.append(episodio_agregado)\n",
    "                recompensas.append(recompensa)\n",
    "                break\n",
    "                \n",
    "    estados_visitados_matriz = sp.lil_matrix((episodios_realizados, numero_de_estados_agregados+1), dtype=int)\n",
    "    for row_index, col_indices in enumerate(estados_visitados):\n",
    "        estados_visitados_matriz[row_index, col_indices] = 1\n",
    "    data_para_entrenar = estados_visitados_matriz.toarray()\n",
    "    tensor_data_para_entrenar = torch.from_numpy(data_para_entrenar).float()\n",
    "    y = torch.FloatTensor(recompensas).view(episodios_realizados, -1)\n",
    "\n",
    "    optimizer.zero_grad()\n",
    "    pred = model.forward(tensor_data_para_entrenar)\n",
    "    error_parcial = criterio(pred, y)\n",
    "    error_parcial.backward()\n",
    "    error_total += error_parcial.item()\n",
    "    error_acumulado.append(error_parcial.item())\n",
    "    optimizer.step()\n",
    "    if j % 10 == 0:\n",
    "        print(error_total)"
   ]
  },
  {
   "cell_type": "code",
   "execution_count": null,
   "metadata": {},
   "outputs": [],
   "source": [
    "estados_agredados_valor = torch.from_numpy(np.identity(numero_de_estados_agregados+1)).float()\n",
    "valor_estados = model.forward(estados_agredados_valor)\n",
    "valores_finales = [l[0] for l in valor_estados.tolist()]"
   ]
  },
  {
   "cell_type": "code",
   "execution_count": null,
   "metadata": {},
   "outputs": [],
   "source": [
    "plt.plot(valores_finales)"
   ]
  },
  {
   "cell_type": "code",
   "execution_count": null,
   "metadata": {},
   "outputs": [],
   "source": [
    "plt.plot(error_acumulado, color='r')"
   ]
  }
 ],
 "metadata": {
  "kernelspec": {
   "display_name": "Python 3",
   "language": "python",
   "name": "python3"
  },
  "language_info": {
   "codemirror_mode": {
    "name": "ipython",
    "version": 3
   },
   "file_extension": ".py",
   "mimetype": "text/x-python",
   "name": "python",
   "nbconvert_exporter": "python",
   "pygments_lexer": "ipython3",
   "version": "3.7.3"
  }
 },
 "nbformat": 4,
 "nbformat_minor": 2
}
